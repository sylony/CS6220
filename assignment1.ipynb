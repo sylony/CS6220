{
 "cells": [
  {
   "cell_type": "code",
   "execution_count": 5,
   "id": "81832387-2e12-43d9-bc36-00c334659583",
   "metadata": {},
   "outputs": [],
   "source": [
    "import numpy as np\n",
    "import pandas as pd\n",
    "from itertools import combinations\n",
    "import matplotlib.pyplot as plt"
   ]
  },
  {
   "cell_type": "markdown",
   "id": "ca58de8e-a5f7-4a0d-84ce-7c1124d1b8bc",
   "metadata": {},
   "source": [
    "## Qustion 2"
   ]
  },
  {
   "cell_type": "code",
   "execution_count": 6,
   "id": "9419b53a-fb4f-457a-a790-7b54f3c16396",
   "metadata": {},
   "outputs": [
    {
     "name": "stdout",
     "output_type": "stream",
     "text": [
      "21\n"
     ]
    }
   ],
   "source": [
    "## the input file is .csv,so the corresponding delimeter is ','.\n",
    "def cardinality_items(file):\n",
    "    with open(file,'r') as f:\n",
    "        lines = f.readlines()\n",
    "        col_name = set([])\n",
    "        for l in lines:\n",
    "            res = l.split(',')\n",
    "            for i in range(len(res)):\n",
    "                res[i] = res[i].strip()\n",
    "            col_name = col_name | set(res)\n",
    "    f.close()\n",
    "    return len(col_name),col_name\n",
    "print(cardinality_items('sample data/basket_data.csv')[0])"
   ]
  },
  {
   "cell_type": "code",
   "execution_count": 7,
   "id": "6bc14874-7bf9-4e18-bb90-ee828a1b8e71",
   "metadata": {},
   "outputs": [
    {
     "data": {
      "text/plain": [
       "[['pork', 'leeks'],\n",
       " ['pork', 'sausages'],\n",
       " ['pork', 'tomotes'],\n",
       " ['pork', 'macaroni'],\n",
       " ['pork', 'squid'],\n",
       " ['pork', 'asparagus'],\n",
       " ['pork', 'beer'],\n",
       " ['pork', 'chips'],\n",
       " ['pork', 'butter'],\n",
       " ['pork', 'spaghetti'],\n",
       " ['pork', 'raisins'],\n",
       " ['pork', 'salmon'],\n",
       " ['pork', 'corn'],\n",
       " ['pork', 'beans'],\n",
       " ['pork', 'okra'],\n",
       " ['pork', 'ketchup'],\n",
       " ['pork', 'spinach'],\n",
       " ['pork', 'diapers'],\n",
       " ['pork', 'milk'],\n",
       " ['pork', 'bread'],\n",
       " ['leeks', 'sausages'],\n",
       " ['leeks', 'tomotes'],\n",
       " ['leeks', 'macaroni'],\n",
       " ['leeks', 'squid'],\n",
       " ['leeks', 'asparagus'],\n",
       " ['leeks', 'beer'],\n",
       " ['leeks', 'chips'],\n",
       " ['leeks', 'butter'],\n",
       " ['leeks', 'spaghetti'],\n",
       " ['leeks', 'raisins'],\n",
       " ['leeks', 'salmon'],\n",
       " ['leeks', 'corn'],\n",
       " ['leeks', 'beans'],\n",
       " ['leeks', 'okra'],\n",
       " ['leeks', 'ketchup'],\n",
       " ['leeks', 'spinach'],\n",
       " ['leeks', 'diapers'],\n",
       " ['leeks', 'milk'],\n",
       " ['leeks', 'bread'],\n",
       " ['sausages', 'tomotes'],\n",
       " ['sausages', 'macaroni'],\n",
       " ['sausages', 'squid'],\n",
       " ['sausages', 'asparagus'],\n",
       " ['sausages', 'beer'],\n",
       " ['sausages', 'chips'],\n",
       " ['sausages', 'butter'],\n",
       " ['sausages', 'spaghetti'],\n",
       " ['sausages', 'raisins'],\n",
       " ['sausages', 'salmon'],\n",
       " ['sausages', 'corn'],\n",
       " ['sausages', 'beans'],\n",
       " ['sausages', 'okra'],\n",
       " ['sausages', 'ketchup'],\n",
       " ['sausages', 'spinach'],\n",
       " ['sausages', 'diapers'],\n",
       " ['sausages', 'milk'],\n",
       " ['sausages', 'bread'],\n",
       " ['tomotes', 'macaroni'],\n",
       " ['tomotes', 'squid'],\n",
       " ['tomotes', 'asparagus'],\n",
       " ['tomotes', 'beer'],\n",
       " ['tomotes', 'chips'],\n",
       " ['tomotes', 'butter'],\n",
       " ['tomotes', 'spaghetti'],\n",
       " ['tomotes', 'raisins'],\n",
       " ['tomotes', 'salmon'],\n",
       " ['tomotes', 'corn'],\n",
       " ['tomotes', 'beans'],\n",
       " ['tomotes', 'okra'],\n",
       " ['tomotes', 'ketchup'],\n",
       " ['tomotes', 'spinach'],\n",
       " ['tomotes', 'diapers'],\n",
       " ['tomotes', 'milk'],\n",
       " ['tomotes', 'bread'],\n",
       " ['macaroni', 'squid'],\n",
       " ['macaroni', 'asparagus'],\n",
       " ['macaroni', 'beer'],\n",
       " ['macaroni', 'chips'],\n",
       " ['macaroni', 'butter'],\n",
       " ['macaroni', 'spaghetti'],\n",
       " ['macaroni', 'raisins'],\n",
       " ['macaroni', 'salmon'],\n",
       " ['macaroni', 'corn'],\n",
       " ['macaroni', 'beans'],\n",
       " ['macaroni', 'okra'],\n",
       " ['macaroni', 'ketchup'],\n",
       " ['macaroni', 'spinach'],\n",
       " ['macaroni', 'diapers'],\n",
       " ['macaroni', 'milk'],\n",
       " ['macaroni', 'bread'],\n",
       " ['squid', 'asparagus'],\n",
       " ['squid', 'beer'],\n",
       " ['squid', 'chips'],\n",
       " ['squid', 'butter'],\n",
       " ['squid', 'spaghetti'],\n",
       " ['squid', 'raisins'],\n",
       " ['squid', 'salmon'],\n",
       " ['squid', 'corn'],\n",
       " ['squid', 'beans'],\n",
       " ['squid', 'okra'],\n",
       " ['squid', 'ketchup'],\n",
       " ['squid', 'spinach'],\n",
       " ['squid', 'diapers'],\n",
       " ['squid', 'milk'],\n",
       " ['squid', 'bread'],\n",
       " ['asparagus', 'beer'],\n",
       " ['asparagus', 'chips'],\n",
       " ['asparagus', 'butter'],\n",
       " ['asparagus', 'spaghetti'],\n",
       " ['asparagus', 'raisins'],\n",
       " ['asparagus', 'salmon'],\n",
       " ['asparagus', 'corn'],\n",
       " ['asparagus', 'beans'],\n",
       " ['asparagus', 'okra'],\n",
       " ['asparagus', 'ketchup'],\n",
       " ['asparagus', 'spinach'],\n",
       " ['asparagus', 'diapers'],\n",
       " ['asparagus', 'milk'],\n",
       " ['asparagus', 'bread'],\n",
       " ['beer', 'chips'],\n",
       " ['beer', 'butter'],\n",
       " ['beer', 'spaghetti'],\n",
       " ['beer', 'raisins'],\n",
       " ['beer', 'salmon'],\n",
       " ['beer', 'corn'],\n",
       " ['beer', 'beans'],\n",
       " ['beer', 'okra'],\n",
       " ['beer', 'ketchup'],\n",
       " ['beer', 'spinach'],\n",
       " ['beer', 'diapers'],\n",
       " ['beer', 'milk'],\n",
       " ['beer', 'bread'],\n",
       " ['chips', 'butter'],\n",
       " ['chips', 'spaghetti'],\n",
       " ['chips', 'raisins'],\n",
       " ['chips', 'salmon'],\n",
       " ['chips', 'corn'],\n",
       " ['chips', 'beans'],\n",
       " ['chips', 'okra'],\n",
       " ['chips', 'ketchup'],\n",
       " ['chips', 'spinach'],\n",
       " ['chips', 'diapers'],\n",
       " ['chips', 'milk'],\n",
       " ['chips', 'bread'],\n",
       " ['butter', 'spaghetti'],\n",
       " ['butter', 'raisins'],\n",
       " ['butter', 'salmon'],\n",
       " ['butter', 'corn'],\n",
       " ['butter', 'beans'],\n",
       " ['butter', 'okra'],\n",
       " ['butter', 'ketchup'],\n",
       " ['butter', 'spinach'],\n",
       " ['butter', 'diapers'],\n",
       " ['butter', 'milk'],\n",
       " ['butter', 'bread'],\n",
       " ['spaghetti', 'raisins'],\n",
       " ['spaghetti', 'salmon'],\n",
       " ['spaghetti', 'corn'],\n",
       " ['spaghetti', 'beans'],\n",
       " ['spaghetti', 'okra'],\n",
       " ['spaghetti', 'ketchup'],\n",
       " ['spaghetti', 'spinach'],\n",
       " ['spaghetti', 'diapers'],\n",
       " ['spaghetti', 'milk'],\n",
       " ['spaghetti', 'bread'],\n",
       " ['raisins', 'salmon'],\n",
       " ['raisins', 'corn'],\n",
       " ['raisins', 'beans'],\n",
       " ['raisins', 'okra'],\n",
       " ['raisins', 'ketchup'],\n",
       " ['raisins', 'spinach'],\n",
       " ['raisins', 'diapers'],\n",
       " ['raisins', 'milk'],\n",
       " ['raisins', 'bread'],\n",
       " ['salmon', 'corn'],\n",
       " ['salmon', 'beans'],\n",
       " ['salmon', 'okra'],\n",
       " ['salmon', 'ketchup'],\n",
       " ['salmon', 'spinach'],\n",
       " ['salmon', 'diapers'],\n",
       " ['salmon', 'milk'],\n",
       " ['salmon', 'bread'],\n",
       " ['corn', 'beans'],\n",
       " ['corn', 'okra'],\n",
       " ['corn', 'ketchup'],\n",
       " ['corn', 'spinach'],\n",
       " ['corn', 'diapers'],\n",
       " ['corn', 'milk'],\n",
       " ['corn', 'bread'],\n",
       " ['beans', 'okra'],\n",
       " ['beans', 'ketchup'],\n",
       " ['beans', 'spinach'],\n",
       " ['beans', 'diapers'],\n",
       " ['beans', 'milk'],\n",
       " ['beans', 'bread'],\n",
       " ['okra', 'ketchup'],\n",
       " ['okra', 'spinach'],\n",
       " ['okra', 'diapers'],\n",
       " ['okra', 'milk'],\n",
       " ['okra', 'bread'],\n",
       " ['ketchup', 'spinach'],\n",
       " ['ketchup', 'diapers'],\n",
       " ['ketchup', 'milk'],\n",
       " ['ketchup', 'bread'],\n",
       " ['spinach', 'diapers'],\n",
       " ['spinach', 'milk'],\n",
       " ['spinach', 'bread'],\n",
       " ['diapers', 'milk'],\n",
       " ['diapers', 'bread'],\n",
       " ['milk', 'bread']]"
      ]
     },
     "execution_count": 7,
     "metadata": {},
     "output_type": "execute_result"
    }
   ],
   "source": [
    "def all_itemsets(filename):\n",
    "    M,col_name = cardinality_items(filename)\n",
    "    res = []\n",
    "    for i in range(1,M+1):\n",
    "        comb = combinations(col_name,i)\n",
    "        comb = [list(val) for val in comb]\n",
    "        res.append(comb)\n",
    "    return res\n",
    "all_itemsets('sample data/basket_data.csv')[1]"
   ]
  },
  {
   "cell_type": "code",
   "execution_count": 8,
   "id": "b07baf3b-e1ed-42c0-a94b-f0fbdb23a3f4",
   "metadata": {},
   "outputs": [],
   "source": [
    "def prob_S(S,D):\n",
    "    count = 0\n",
    "    for val in D:\n",
    "        if set(S)==(set(val)):\n",
    "            count = count + 1\n",
    "    return count/len(D)"
   ]
  },
  {
   "cell_type": "markdown",
   "id": "4d9b3b88-e506-472f-bed9-926e8943d159",
   "metadata": {},
   "source": [
    "## Question 3"
   ]
  },
  {
   "cell_type": "code",
   "execution_count": 9,
   "id": "000cd602-8e97-45e5-9e92-9e17796c1161",
   "metadata": {},
   "outputs": [],
   "source": [
    "def data_merge(file_list):\n",
    "    res = pd.DataFrame()\n",
    "    for file in file_list:\n",
    "        df = pd.read_csv(file,names=['user_id', 'rating', 'date'])\n",
    "        res = pd.concat([res,df])\n",
    "    res['movie_id']= res['user_id'].apply(lambda x:x[:-1] if x[-1]==':' else None)\n",
    "    res['movie_id'] = res['movie_id'].fillna(method='ffill')\n",
    "    res.dropna(subset=['date'],inplace=True)\n",
    "    return res"
   ]
  },
  {
   "cell_type": "code",
   "execution_count": 10,
   "id": "c1098d2a-c886-494c-8e63-b915bcdead09",
   "metadata": {},
   "outputs": [],
   "source": [
    "file_list = ['combined_data_1.txt','combined_data_2.txt',\\\n",
    "             'combined_data_3.txt','combined_data_4.txt']\n",
    "df = data_merge(file_list)"
   ]
  },
  {
   "cell_type": "code",
   "execution_count": 11,
   "id": "4fb970bc-4064-400b-925b-2a23964c71ae",
   "metadata": {},
   "outputs": [
    {
     "data": {
      "text/html": [
       "<div>\n",
       "<style scoped>\n",
       "    .dataframe tbody tr th:only-of-type {\n",
       "        vertical-align: middle;\n",
       "    }\n",
       "\n",
       "    .dataframe tbody tr th {\n",
       "        vertical-align: top;\n",
       "    }\n",
       "\n",
       "    .dataframe thead th {\n",
       "        text-align: right;\n",
       "    }\n",
       "</style>\n",
       "<table border=\"1\" class=\"dataframe\">\n",
       "  <thead>\n",
       "    <tr style=\"text-align: right;\">\n",
       "      <th></th>\n",
       "      <th>user_id</th>\n",
       "      <th>rating</th>\n",
       "      <th>date</th>\n",
       "      <th>movie_id</th>\n",
       "    </tr>\n",
       "  </thead>\n",
       "  <tbody>\n",
       "    <tr>\n",
       "      <th>1</th>\n",
       "      <td>1488844</td>\n",
       "      <td>3.0</td>\n",
       "      <td>2005-09-06</td>\n",
       "      <td>1</td>\n",
       "    </tr>\n",
       "    <tr>\n",
       "      <th>2</th>\n",
       "      <td>822109</td>\n",
       "      <td>5.0</td>\n",
       "      <td>2005-05-13</td>\n",
       "      <td>1</td>\n",
       "    </tr>\n",
       "    <tr>\n",
       "      <th>3</th>\n",
       "      <td>885013</td>\n",
       "      <td>4.0</td>\n",
       "      <td>2005-10-19</td>\n",
       "      <td>1</td>\n",
       "    </tr>\n",
       "    <tr>\n",
       "      <th>4</th>\n",
       "      <td>30878</td>\n",
       "      <td>4.0</td>\n",
       "      <td>2005-12-26</td>\n",
       "      <td>1</td>\n",
       "    </tr>\n",
       "    <tr>\n",
       "      <th>5</th>\n",
       "      <td>823519</td>\n",
       "      <td>3.0</td>\n",
       "      <td>2004-05-03</td>\n",
       "      <td>1</td>\n",
       "    </tr>\n",
       "  </tbody>\n",
       "</table>\n",
       "</div>"
      ],
      "text/plain": [
       "   user_id  rating        date movie_id\n",
       "1  1488844     3.0  2005-09-06        1\n",
       "2   822109     5.0  2005-05-13        1\n",
       "3   885013     4.0  2005-10-19        1\n",
       "4    30878     4.0  2005-12-26        1\n",
       "5   823519     3.0  2004-05-03        1"
      ]
     },
     "execution_count": 11,
     "metadata": {},
     "output_type": "execute_result"
    }
   ],
   "source": [
    "df.head()"
   ]
  },
  {
   "cell_type": "code",
   "execution_count": 12,
   "id": "0faaadc9-906c-49a1-a8da-6236322f0a3c",
   "metadata": {},
   "outputs": [
    {
     "data": {
      "text/plain": [
       "(6, 2649429)"
      ]
     },
     "execution_count": 12,
     "metadata": {},
     "output_type": "execute_result"
    }
   ],
   "source": [
    "df['user_id'].astype(int).min(),df['user_id'].astype(int).max()"
   ]
  },
  {
   "cell_type": "code",
   "execution_count": 13,
   "id": "1b79514b-6462-42c1-a96a-a76f446e0f2c",
   "metadata": {},
   "outputs": [
    {
     "data": {
      "text/plain": [
       "(1.0, 5.0)"
      ]
     },
     "execution_count": 13,
     "metadata": {},
     "output_type": "execute_result"
    }
   ],
   "source": [
    "df['rating'].min(),df['rating'].max()"
   ]
  },
  {
   "cell_type": "code",
   "execution_count": 14,
   "id": "0f5296b8-b16e-42c7-9fbb-d005478c3763",
   "metadata": {},
   "outputs": [
    {
     "data": {
      "text/plain": [
       "(1, 17770)"
      ]
     },
     "execution_count": 14,
     "metadata": {},
     "output_type": "execute_result"
    }
   ],
   "source": [
    "df['movie_id'].astype(int).min(),df['movie_id'].astype(int).max()"
   ]
  },
  {
   "cell_type": "code",
   "execution_count": 15,
   "id": "4276dff6-986b-440a-98d7-12ecb4475987",
   "metadata": {},
   "outputs": [
    {
     "data": {
      "text/plain": [
       "(100480507, 4)"
      ]
     },
     "execution_count": 15,
     "metadata": {},
     "output_type": "execute_result"
    }
   ],
   "source": [
    "df.shape"
   ]
  },
  {
   "cell_type": "code",
   "execution_count": 16,
   "id": "9ace6d08-ed9d-47d1-9722-5071a69ab4b3",
   "metadata": {},
   "outputs": [
    {
     "data": {
      "text/html": [
       "<div>\n",
       "<style scoped>\n",
       "    .dataframe tbody tr th:only-of-type {\n",
       "        vertical-align: middle;\n",
       "    }\n",
       "\n",
       "    .dataframe tbody tr th {\n",
       "        vertical-align: top;\n",
       "    }\n",
       "\n",
       "    .dataframe thead th {\n",
       "        text-align: right;\n",
       "    }\n",
       "</style>\n",
       "<table border=\"1\" class=\"dataframe\">\n",
       "  <thead>\n",
       "    <tr style=\"text-align: right;\">\n",
       "      <th></th>\n",
       "      <th>rating</th>\n",
       "    </tr>\n",
       "    <tr>\n",
       "      <th>date</th>\n",
       "      <th></th>\n",
       "    </tr>\n",
       "  </thead>\n",
       "  <tbody>\n",
       "    <tr>\n",
       "      <th>1999-11-11</th>\n",
       "      <td>3.428571</td>\n",
       "    </tr>\n",
       "    <tr>\n",
       "      <th>1999-12-06</th>\n",
       "      <td>3.333333</td>\n",
       "    </tr>\n",
       "    <tr>\n",
       "      <th>1999-12-08</th>\n",
       "      <td>3.655172</td>\n",
       "    </tr>\n",
       "    <tr>\n",
       "      <th>1999-12-09</th>\n",
       "      <td>3.487500</td>\n",
       "    </tr>\n",
       "    <tr>\n",
       "      <th>1999-12-10</th>\n",
       "      <td>3.666667</td>\n",
       "    </tr>\n",
       "  </tbody>\n",
       "</table>\n",
       "</div>"
      ],
      "text/plain": [
       "              rating\n",
       "date                \n",
       "1999-11-11  3.428571\n",
       "1999-12-06  3.333333\n",
       "1999-12-08  3.655172\n",
       "1999-12-09  3.487500\n",
       "1999-12-10  3.666667"
      ]
     },
     "execution_count": 16,
     "metadata": {},
     "output_type": "execute_result"
    }
   ],
   "source": [
    "rating_time = df[['rating','date']].groupby('date').mean()\n",
    "rating_time.head()"
   ]
  },
  {
   "cell_type": "code",
   "execution_count": 17,
   "id": "74a36cf7-0185-4b04-b9dc-742f7151a779",
   "metadata": {},
   "outputs": [
    {
     "data": {
      "text/plain": [
       "<Figure size 1440x576 with 0 Axes>"
      ]
     },
     "metadata": {},
     "output_type": "display_data"
    },
    {
     "data": {
      "image/png": "[encoded data removed]",
      "text/plain": [
       "<Figure size 432x288 with 1 Axes>"
      ]
     },
     "metadata": {
      "needs_background": "light"
     },
     "output_type": "display_data"
    }
   ],
   "source": [
    "plt.figure(figsize=(20,8))\n",
    "rating_time.plot(kind='line')\n",
    "plt.ylabel('mean rating')\n",
    "plt.show()"
   ]
  },
  {
   "cell_type": "code",
   "execution_count": 26,
   "id": "f64ff898-5830-46eb-b2c4-4bba6f653878",
   "metadata": {},
   "outputs": [
    {
     "name": "stderr",
     "output_type": "stream",
     "text": [
      "/tmp/ipykernel_6235/3055239293.py:2: SettingWithCopyWarning: \n",
      "A value is trying to be set on a copy of a slice from a DataFrame.\n",
      "Try using .loc[row_indexer,col_indexer] = value instead\n",
      "\n",
      "See the caveats in the documentation: https://pandas.pydata.org/pandas-docs/stable/user_guide/indexing.html#returning-a-view-versus-a-copy\n",
      "  movie_rating_time['year'] = pd.to_datetime(df['date']).dt.year\n"
     ]
    },
    {
     "data": {
      "text/html": [
       "<div>\n",
       "<style scoped>\n",
       "    .dataframe tbody tr th:only-of-type {\n",
       "        vertical-align: middle;\n",
       "    }\n",
       "\n",
       "    .dataframe tbody tr th {\n",
       "        vertical-align: top;\n",
       "    }\n",
       "\n",
       "    .dataframe thead th {\n",
       "        text-align: right;\n",
       "    }\n",
       "</style>\n",
       "<table border=\"1\" class=\"dataframe\">\n",
       "  <thead>\n",
       "    <tr style=\"text-align: right;\">\n",
       "      <th></th>\n",
       "      <th>rating</th>\n",
       "      <th>movie_id</th>\n",
       "      <th>year</th>\n",
       "    </tr>\n",
       "  </thead>\n",
       "  <tbody>\n",
       "    <tr>\n",
       "      <th>1</th>\n",
       "      <td>3.0</td>\n",
       "      <td>1</td>\n",
       "      <td>2005</td>\n",
       "    </tr>\n",
       "    <tr>\n",
       "      <th>2</th>\n",
       "      <td>5.0</td>\n",
       "      <td>1</td>\n",
       "      <td>2005</td>\n",
       "    </tr>\n",
       "    <tr>\n",
       "      <th>3</th>\n",
       "      <td>4.0</td>\n",
       "      <td>1</td>\n",
       "      <td>2005</td>\n",
       "    </tr>\n",
       "    <tr>\n",
       "      <th>4</th>\n",
       "      <td>4.0</td>\n",
       "      <td>1</td>\n",
       "      <td>2005</td>\n",
       "    </tr>\n",
       "    <tr>\n",
       "      <th>5</th>\n",
       "      <td>3.0</td>\n",
       "      <td>1</td>\n",
       "      <td>2004</td>\n",
       "    </tr>\n",
       "  </tbody>\n",
       "</table>\n",
       "</div>"
      ],
      "text/plain": [
       "   rating movie_id  year\n",
       "1     3.0        1  2005\n",
       "2     5.0        1  2005\n",
       "3     4.0        1  2005\n",
       "4     4.0        1  2005\n",
       "5     3.0        1  2004"
      ]
     },
     "execution_count": 26,
     "metadata": {},
     "output_type": "execute_result"
    }
   ],
   "source": [
    "movie_rating_time = df[['rating','movie_id']]\n",
    "movie_rating_time['year'] = pd.to_datetime(df['date']).dt.year\n",
    "movie_rating_time.head()"
   ]
  },
  {
   "cell_type": "code",
   "execution_count": 55,
   "id": "12757054-e36e-4284-9c51-52d7ae4e56d6",
   "metadata": {},
   "outputs": [
    {
     "data": {
      "text/html": [
       "<div>\n",
       "<style scoped>\n",
       "    .dataframe tbody tr th:only-of-type {\n",
       "        vertical-align: middle;\n",
       "    }\n",
       "\n",
       "    .dataframe tbody tr th {\n",
       "        vertical-align: top;\n",
       "    }\n",
       "\n",
       "    .dataframe thead th {\n",
       "        text-align: right;\n",
       "    }\n",
       "</style>\n",
       "<table border=\"1\" class=\"dataframe\">\n",
       "  <thead>\n",
       "    <tr style=\"text-align: right;\">\n",
       "      <th></th>\n",
       "      <th></th>\n",
       "      <th>rating</th>\n",
       "    </tr>\n",
       "    <tr>\n",
       "      <th>movie_id</th>\n",
       "      <th>year</th>\n",
       "      <th></th>\n",
       "    </tr>\n",
       "  </thead>\n",
       "  <tbody>\n",
       "    <tr>\n",
       "      <th rowspan=\"2\" valign=\"top\">1</th>\n",
       "      <th>2004</th>\n",
       "      <td>3.587940</td>\n",
       "    </tr>\n",
       "    <tr>\n",
       "      <th>2005</th>\n",
       "      <td>3.841954</td>\n",
       "    </tr>\n",
       "    <tr>\n",
       "      <th rowspan=\"3\" valign=\"top\">10</th>\n",
       "      <th>2002</th>\n",
       "      <td>2.846154</td>\n",
       "    </tr>\n",
       "    <tr>\n",
       "      <th>2003</th>\n",
       "      <td>3.208333</td>\n",
       "    </tr>\n",
       "    <tr>\n",
       "      <th>2004</th>\n",
       "      <td>3.211111</td>\n",
       "    </tr>\n",
       "    <tr>\n",
       "      <th>...</th>\n",
       "      <th>...</th>\n",
       "      <td>...</td>\n",
       "    </tr>\n",
       "    <tr>\n",
       "      <th rowspan=\"5\" valign=\"top\">9999</th>\n",
       "      <th>2001</th>\n",
       "      <td>1.600000</td>\n",
       "    </tr>\n",
       "    <tr>\n",
       "      <th>2002</th>\n",
       "      <td>1.979167</td>\n",
       "    </tr>\n",
       "    <tr>\n",
       "      <th>2003</th>\n",
       "      <td>1.828571</td>\n",
       "    </tr>\n",
       "    <tr>\n",
       "      <th>2004</th>\n",
       "      <td>2.000000</td>\n",
       "    </tr>\n",
       "    <tr>\n",
       "      <th>2005</th>\n",
       "      <td>2.571429</td>\n",
       "    </tr>\n",
       "  </tbody>\n",
       "</table>\n",
       "<p>65433 rows × 1 columns</p>\n",
       "</div>"
      ],
      "text/plain": [
       "                 rating\n",
       "movie_id year          \n",
       "1        2004  3.587940\n",
       "         2005  3.841954\n",
       "10       2002  2.846154\n",
       "         2003  3.208333\n",
       "         2004  3.211111\n",
       "...                 ...\n",
       "9999     2001  1.600000\n",
       "         2002  1.979167\n",
       "         2003  1.828571\n",
       "         2004  2.000000\n",
       "         2005  2.571429\n",
       "\n",
       "[65433 rows x 1 columns]"
      ]
     },
     "execution_count": 55,
     "metadata": {},
     "output_type": "execute_result"
    }
   ],
   "source": [
    "tmp = movie_rating_time.sort_values('year').groupby(['movie_id','year']).mean()\n",
    "tmp"
   ]
  },
  {
   "cell_type": "code",
   "execution_count": 67,
   "id": "e0711cf0-30d9-4049-b99e-bac548e4bb94",
   "metadata": {},
   "outputs": [
    {
     "data": {
      "text/plain": [
       "rating    0.59758\n",
       "dtype: float64"
      ]
     },
     "execution_count": 67,
     "metadata": {},
     "output_type": "execute_result"
    }
   ],
   "source": [
    "res = 0\n",
    "cnt = 0\n",
    "for idx in tmp.index.levels[0]:\n",
    "    rating_df = tmp.loc[idx]\n",
    "    mean_rating = rating_df.mean()\n",
    "    first_year_rating = rating_df.iloc[0]\n",
    "    res += (mean_rating > first_year_rating).astype(int)\n",
    "    cnt += 1\n",
    "res/cnt"
   ]
  },
  {
   "cell_type": "code",
   "execution_count": 96,
   "id": "7f73aa2b-34fc-4a79-ae04-c4517a4fbb8c",
   "metadata": {},
   "outputs": [
    {
     "data": {
      "text/plain": [
       "473"
      ]
     },
     "execution_count": 96,
     "metadata": {},
     "output_type": "execute_result"
    }
   ],
   "source": [
    "df_movie = pd.read_csv('movie_titles.csv',encoding = \"latin\",header=None,names=['movie_id','year','name'],usecols=[0,1,2])\n",
    "df_movie['name'].duplicated().sum()"
   ]
  },
  {
   "cell_type": "code",
   "execution_count": null,
   "id": "feee0d9b-cb95-4393-a773-271274228fd3",
   "metadata": {},
   "outputs": [],
   "source": []
  }
 ],
 "metadata": {
  "kernelspec": {
   "display_name": "Python 3 (ipykernel)",
   "language": "python",
   "name": "python3"
  },
  "language_info": {
   "codemirror_mode": {
    "name": "ipython",
    "version": 3
   },
   "file_extension": ".py",
   "mimetype": "text/x-python",
   "name": "python",
   "nbconvert_exporter": "python",
   "pygments_lexer": "ipython3",
   "version": "3.8.10"
  }
 },
 "nbformat": 4,
 "nbformat_minor": 5
}
